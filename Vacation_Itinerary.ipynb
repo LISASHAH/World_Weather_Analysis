{
 "cells": [
  {
   "cell_type": "code",
   "execution_count": 12,
   "metadata": {},
   "outputs": [],
   "source": [
    "# Import the dependencies.\n",
    "import pandas as pd\n",
    "import matplotlib.pyplot as plt\n",
    "import numpy as np\n",
    "from scipy import stats"
   ]
  },
  {
   "cell_type": "code",
   "execution_count": null,
   "metadata": {},
   "outputs": [],
   "source": [
    "#From the vacation search map, choose at least four cities in close \n",
    "#proximity on your map that are on the same continent \n",
    "#that a customer might travel to, and then create a directions layer map."
   ]
  },
  {
   "cell_type": "code",
   "execution_count": 59,
   "metadata": {
    "scrolled": true
   },
   "outputs": [
    {
     "data": {
      "text/html": [
       "<div>\n",
       "<style scoped>\n",
       "    .dataframe tbody tr th:only-of-type {\n",
       "        vertical-align: middle;\n",
       "    }\n",
       "\n",
       "    .dataframe tbody tr th {\n",
       "        vertical-align: top;\n",
       "    }\n",
       "\n",
       "    .dataframe thead th {\n",
       "        text-align: right;\n",
       "    }\n",
       "</style>\n",
       "<table border=\"1\" class=\"dataframe\">\n",
       "  <thead>\n",
       "    <tr style=\"text-align: right;\">\n",
       "      <th></th>\n",
       "      <th>City_ID</th>\n",
       "      <th>City</th>\n",
       "      <th>Country</th>\n",
       "      <th>Max Temp</th>\n",
       "      <th>Current Description</th>\n",
       "      <th>Lat</th>\n",
       "      <th>Lng</th>\n",
       "      <th>Hotel Name</th>\n",
       "    </tr>\n",
       "  </thead>\n",
       "  <tbody>\n",
       "    <tr>\n",
       "      <th>0</th>\n",
       "      <td>0</td>\n",
       "      <td>Rikitea</td>\n",
       "      <td>PF</td>\n",
       "      <td>75.65</td>\n",
       "      <td>overcast clouds</td>\n",
       "      <td>-23.12</td>\n",
       "      <td>-134.97</td>\n",
       "      <td>Pension Maro'i</td>\n",
       "    </tr>\n",
       "    <tr>\n",
       "      <th>1</th>\n",
       "      <td>1</td>\n",
       "      <td>Conakry</td>\n",
       "      <td>GN</td>\n",
       "      <td>87.80</td>\n",
       "      <td>haze</td>\n",
       "      <td>9.52</td>\n",
       "      <td>-13.70</td>\n",
       "      <td>Golden Plazza</td>\n",
       "    </tr>\n",
       "    <tr>\n",
       "      <th>2</th>\n",
       "      <td>2</td>\n",
       "      <td>Mindelo</td>\n",
       "      <td>PT</td>\n",
       "      <td>63.00</td>\n",
       "      <td>clear sky</td>\n",
       "      <td>41.31</td>\n",
       "      <td>-8.72</td>\n",
       "      <td>Santana Hotel &amp; Spa</td>\n",
       "    </tr>\n",
       "    <tr>\n",
       "      <th>3</th>\n",
       "      <td>3</td>\n",
       "      <td>Comodoro Rivadavia</td>\n",
       "      <td>AR</td>\n",
       "      <td>71.60</td>\n",
       "      <td>few clouds</td>\n",
       "      <td>-45.87</td>\n",
       "      <td>-67.48</td>\n",
       "      <td>Austral Hotel</td>\n",
       "    </tr>\n",
       "    <tr>\n",
       "      <th>4</th>\n",
       "      <td>4</td>\n",
       "      <td>Navahrudak</td>\n",
       "      <td>BY</td>\n",
       "      <td>25.03</td>\n",
       "      <td>few clouds</td>\n",
       "      <td>53.59</td>\n",
       "      <td>25.82</td>\n",
       "      <td>Guest House in Novogrudok</td>\n",
       "    </tr>\n",
       "  </tbody>\n",
       "</table>\n",
       "</div>"
      ],
      "text/plain": [
       "   City_ID                City Country  Max Temp Current Description    Lat  \\\n",
       "0        0             Rikitea      PF     75.65     overcast clouds -23.12   \n",
       "1        1             Conakry      GN     87.80                haze   9.52   \n",
       "2        2             Mindelo      PT     63.00           clear sky  41.31   \n",
       "3        3  Comodoro Rivadavia      AR     71.60          few clouds -45.87   \n",
       "4        4          Navahrudak      BY     25.03          few clouds  53.59   \n",
       "\n",
       "      Lng                 Hotel Name  \n",
       "0 -134.97             Pension Maro'i  \n",
       "1  -13.70              Golden Plazza  \n",
       "2   -8.72        Santana Hotel & Spa  \n",
       "3  -67.48              Austral Hotel  \n",
       "4   25.82  Guest House in Novogrudok  "
      ]
     },
     "execution_count": 59,
     "metadata": {},
     "output_type": "execute_result"
    }
   ],
   "source": [
    "# Store the CSV you saved created in part one into a DataFrame.\n",
    "preferred_cities_df = pd.read_csv(\"weather_data/WeatherPy_vacation.csv\")\n",
    "preferred_cities_df.head()"
   ]
  },
  {
   "cell_type": "code",
   "execution_count": 66,
   "metadata": {
    "scrolled": true
   },
   "outputs": [
    {
     "data": {
      "text/html": [
       "<div>\n",
       "<style scoped>\n",
       "    .dataframe tbody tr th:only-of-type {\n",
       "        vertical-align: middle;\n",
       "    }\n",
       "\n",
       "    .dataframe tbody tr th {\n",
       "        vertical-align: top;\n",
       "    }\n",
       "\n",
       "    .dataframe thead th {\n",
       "        text-align: right;\n",
       "    }\n",
       "</style>\n",
       "<table border=\"1\" class=\"dataframe\">\n",
       "  <thead>\n",
       "    <tr style=\"text-align: right;\">\n",
       "      <th></th>\n",
       "      <th>City_ID</th>\n",
       "      <th>City</th>\n",
       "      <th>Country</th>\n",
       "      <th>Max Temp</th>\n",
       "      <th>Current Description</th>\n",
       "      <th>Lat</th>\n",
       "      <th>Lng</th>\n",
       "      <th>Hotel Name</th>\n",
       "    </tr>\n",
       "  </thead>\n",
       "  <tbody>\n",
       "    <tr>\n",
       "      <th>30</th>\n",
       "      <td>33</td>\n",
       "      <td>Saint George</td>\n",
       "      <td>GR</td>\n",
       "      <td>42.8</td>\n",
       "      <td>broken clouds</td>\n",
       "      <td>39.45</td>\n",
       "      <td>22.34</td>\n",
       "      <td>MX PARK KYPARISSOS</td>\n",
       "    </tr>\n",
       "  </tbody>\n",
       "</table>\n",
       "</div>"
      ],
      "text/plain": [
       "    City_ID          City Country  Max Temp Current Description    Lat    Lng  \\\n",
       "30       33  Saint George      GR      42.8       broken clouds  39.45  22.34   \n",
       "\n",
       "            Hotel Name  \n",
       "30  MX PARK KYPARISSOS  "
      ]
     },
     "execution_count": 66,
     "metadata": {},
     "output_type": "execute_result"
    }
   ],
   "source": [
    "City1 = preferred_cities_df[preferred_cities_df['City'].str.contains(\"Saint George\")]\n",
    "City1"
   ]
  },
  {
   "cell_type": "code",
   "execution_count": 67,
   "metadata": {},
   "outputs": [
    {
     "data": {
      "text/html": [
       "<div>\n",
       "<style scoped>\n",
       "    .dataframe tbody tr th:only-of-type {\n",
       "        vertical-align: middle;\n",
       "    }\n",
       "\n",
       "    .dataframe tbody tr th {\n",
       "        vertical-align: top;\n",
       "    }\n",
       "\n",
       "    .dataframe thead th {\n",
       "        text-align: right;\n",
       "    }\n",
       "</style>\n",
       "<table border=\"1\" class=\"dataframe\">\n",
       "  <thead>\n",
       "    <tr style=\"text-align: right;\">\n",
       "      <th></th>\n",
       "      <th>City_ID</th>\n",
       "      <th>City</th>\n",
       "      <th>Country</th>\n",
       "      <th>Max Temp</th>\n",
       "      <th>Current Description</th>\n",
       "      <th>Lat</th>\n",
       "      <th>Lng</th>\n",
       "      <th>Hotel Name</th>\n",
       "    </tr>\n",
       "  </thead>\n",
       "  <tbody>\n",
       "    <tr>\n",
       "      <th>171</th>\n",
       "      <td>197</td>\n",
       "      <td>Souillac</td>\n",
       "      <td>FR</td>\n",
       "      <td>46.4</td>\n",
       "      <td>overcast clouds</td>\n",
       "      <td>45.6</td>\n",
       "      <td>-0.6</td>\n",
       "      <td>Jolysable</td>\n",
       "    </tr>\n",
       "  </tbody>\n",
       "</table>\n",
       "</div>"
      ],
      "text/plain": [
       "     City_ID      City Country  Max Temp Current Description   Lat  Lng  \\\n",
       "171      197  Souillac      FR      46.4     overcast clouds  45.6 -0.6   \n",
       "\n",
       "    Hotel Name  \n",
       "171  Jolysable  "
      ]
     },
     "execution_count": 67,
     "metadata": {},
     "output_type": "execute_result"
    }
   ],
   "source": [
    "City2 = preferred_cities_df[preferred_cities_df['City'].str.contains(\"Souillac\")]\n",
    "City2"
   ]
  },
  {
   "cell_type": "code",
   "execution_count": 71,
   "metadata": {},
   "outputs": [
    {
     "data": {
      "text/html": [
       "<div>\n",
       "<style scoped>\n",
       "    .dataframe tbody tr th:only-of-type {\n",
       "        vertical-align: middle;\n",
       "    }\n",
       "\n",
       "    .dataframe tbody tr th {\n",
       "        vertical-align: top;\n",
       "    }\n",
       "\n",
       "    .dataframe thead th {\n",
       "        text-align: right;\n",
       "    }\n",
       "</style>\n",
       "<table border=\"1\" class=\"dataframe\">\n",
       "  <thead>\n",
       "    <tr style=\"text-align: right;\">\n",
       "      <th></th>\n",
       "      <th>City_ID</th>\n",
       "      <th>City</th>\n",
       "      <th>Country</th>\n",
       "      <th>Max Temp</th>\n",
       "      <th>Current Description</th>\n",
       "      <th>Lat</th>\n",
       "      <th>Lng</th>\n",
       "      <th>Hotel Name</th>\n",
       "    </tr>\n",
       "  </thead>\n",
       "  <tbody>\n",
       "    <tr>\n",
       "      <th>217</th>\n",
       "      <td>247</td>\n",
       "      <td>Veraval</td>\n",
       "      <td>FR</td>\n",
       "      <td>39.2</td>\n",
       "      <td>broken clouds</td>\n",
       "      <td>49.65</td>\n",
       "      <td>0.71</td>\n",
       "      <td>Le Manoir aux Vaches</td>\n",
       "    </tr>\n",
       "  </tbody>\n",
       "</table>\n",
       "</div>"
      ],
      "text/plain": [
       "     City_ID     City Country  Max Temp Current Description    Lat   Lng  \\\n",
       "217      247  Veraval      FR      39.2       broken clouds  49.65  0.71   \n",
       "\n",
       "               Hotel Name  \n",
       "217  Le Manoir aux Vaches  "
      ]
     },
     "execution_count": 71,
     "metadata": {},
     "output_type": "execute_result"
    }
   ],
   "source": [
    "City3 = preferred_cities_df[preferred_cities_df['City'].str.contains(\"Veraval\")]\n",
    "City3"
   ]
  },
  {
   "cell_type": "code",
   "execution_count": 72,
   "metadata": {},
   "outputs": [
    {
     "data": {
      "text/html": [
       "<div>\n",
       "<style scoped>\n",
       "    .dataframe tbody tr th:only-of-type {\n",
       "        vertical-align: middle;\n",
       "    }\n",
       "\n",
       "    .dataframe tbody tr th {\n",
       "        vertical-align: top;\n",
       "    }\n",
       "\n",
       "    .dataframe thead th {\n",
       "        text-align: right;\n",
       "    }\n",
       "</style>\n",
       "<table border=\"1\" class=\"dataframe\">\n",
       "  <thead>\n",
       "    <tr style=\"text-align: right;\">\n",
       "      <th></th>\n",
       "      <th>City_ID</th>\n",
       "      <th>City</th>\n",
       "      <th>Country</th>\n",
       "      <th>Max Temp</th>\n",
       "      <th>Current Description</th>\n",
       "      <th>Lat</th>\n",
       "      <th>Lng</th>\n",
       "      <th>Hotel Name</th>\n",
       "    </tr>\n",
       "  </thead>\n",
       "  <tbody>\n",
       "    <tr>\n",
       "      <th>273</th>\n",
       "      <td>314</td>\n",
       "      <td>Ploemeur</td>\n",
       "      <td>FR</td>\n",
       "      <td>46.99</td>\n",
       "      <td>scattered clouds</td>\n",
       "      <td>47.73</td>\n",
       "      <td>-3.43</td>\n",
       "      <td>Best Western Plus Hotel Les Rives Du Ter</td>\n",
       "    </tr>\n",
       "  </tbody>\n",
       "</table>\n",
       "</div>"
      ],
      "text/plain": [
       "     City_ID      City Country  Max Temp Current Description    Lat   Lng  \\\n",
       "273      314  Ploemeur      FR     46.99    scattered clouds  47.73 -3.43   \n",
       "\n",
       "                                   Hotel Name  \n",
       "273  Best Western Plus Hotel Les Rives Du Ter  "
      ]
     },
     "execution_count": 72,
     "metadata": {},
     "output_type": "execute_result"
    }
   ],
   "source": [
    "City4 = preferred_cities_df[preferred_cities_df['City'].str.contains(\"Ploemeur\")]\n",
    "City4"
   ]
  },
  {
   "cell_type": "code",
   "execution_count": 73,
   "metadata": {},
   "outputs": [
    {
     "data": {
      "text/html": [
       "<div>\n",
       "<style scoped>\n",
       "    .dataframe tbody tr th:only-of-type {\n",
       "        vertical-align: middle;\n",
       "    }\n",
       "\n",
       "    .dataframe tbody tr th {\n",
       "        vertical-align: top;\n",
       "    }\n",
       "\n",
       "    .dataframe thead th {\n",
       "        text-align: right;\n",
       "    }\n",
       "</style>\n",
       "<table border=\"1\" class=\"dataframe\">\n",
       "  <thead>\n",
       "    <tr style=\"text-align: right;\">\n",
       "      <th></th>\n",
       "      <th>City_ID</th>\n",
       "      <th>City</th>\n",
       "      <th>Country</th>\n",
       "      <th>Max Temp</th>\n",
       "      <th>Current Description</th>\n",
       "      <th>Lat</th>\n",
       "      <th>Lng</th>\n",
       "      <th>Hotel Name</th>\n",
       "    </tr>\n",
       "  </thead>\n",
       "  <tbody>\n",
       "    <tr>\n",
       "      <th>30</th>\n",
       "      <td>33</td>\n",
       "      <td>Saint George</td>\n",
       "      <td>GR</td>\n",
       "      <td>42.80</td>\n",
       "      <td>broken clouds</td>\n",
       "      <td>39.45</td>\n",
       "      <td>22.34</td>\n",
       "      <td>MX PARK KYPARISSOS</td>\n",
       "    </tr>\n",
       "    <tr>\n",
       "      <th>171</th>\n",
       "      <td>197</td>\n",
       "      <td>Souillac</td>\n",
       "      <td>FR</td>\n",
       "      <td>46.40</td>\n",
       "      <td>overcast clouds</td>\n",
       "      <td>45.60</td>\n",
       "      <td>-0.60</td>\n",
       "      <td>Jolysable</td>\n",
       "    </tr>\n",
       "    <tr>\n",
       "      <th>217</th>\n",
       "      <td>247</td>\n",
       "      <td>Veraval</td>\n",
       "      <td>FR</td>\n",
       "      <td>39.20</td>\n",
       "      <td>broken clouds</td>\n",
       "      <td>49.65</td>\n",
       "      <td>0.71</td>\n",
       "      <td>Le Manoir aux Vaches</td>\n",
       "    </tr>\n",
       "    <tr>\n",
       "      <th>273</th>\n",
       "      <td>314</td>\n",
       "      <td>Ploemeur</td>\n",
       "      <td>FR</td>\n",
       "      <td>46.99</td>\n",
       "      <td>scattered clouds</td>\n",
       "      <td>47.73</td>\n",
       "      <td>-3.43</td>\n",
       "      <td>Best Western Plus Hotel Les Rives Du Ter</td>\n",
       "    </tr>\n",
       "  </tbody>\n",
       "</table>\n",
       "</div>"
      ],
      "text/plain": [
       "     City_ID          City Country  Max Temp Current Description    Lat  \\\n",
       "30        33  Saint George      GR     42.80       broken clouds  39.45   \n",
       "171      197      Souillac      FR     46.40     overcast clouds  45.60   \n",
       "217      247       Veraval      FR     39.20       broken clouds  49.65   \n",
       "273      314      Ploemeur      FR     46.99    scattered clouds  47.73   \n",
       "\n",
       "       Lng                                Hotel Name  \n",
       "30   22.34                        MX PARK KYPARISSOS  \n",
       "171  -0.60                                 Jolysable  \n",
       "217   0.71                      Le Manoir aux Vaches  \n",
       "273  -3.43  Best Western Plus Hotel Les Rives Du Ter  "
      ]
     },
     "execution_count": 73,
     "metadata": {},
     "output_type": "execute_result"
    }
   ],
   "source": [
    "four_cities_df = pd.concat([City1, City2, City3, City4])\n",
    "four_cities_df"
   ]
  },
  {
   "cell_type": "code",
   "execution_count": 144,
   "metadata": {},
   "outputs": [
    {
     "data": {
      "text/html": [
       "<div>\n",
       "<style scoped>\n",
       "    .dataframe tbody tr th:only-of-type {\n",
       "        vertical-align: middle;\n",
       "    }\n",
       "\n",
       "    .dataframe tbody tr th {\n",
       "        vertical-align: top;\n",
       "    }\n",
       "\n",
       "    .dataframe thead th {\n",
       "        text-align: right;\n",
       "    }\n",
       "</style>\n",
       "<table border=\"1\" class=\"dataframe\">\n",
       "  <thead>\n",
       "    <tr style=\"text-align: right;\">\n",
       "      <th></th>\n",
       "      <th>City</th>\n",
       "      <th>Lat</th>\n",
       "      <th>Lng</th>\n",
       "    </tr>\n",
       "  </thead>\n",
       "  <tbody>\n",
       "    <tr>\n",
       "      <th>30</th>\n",
       "      <td>Saint George</td>\n",
       "      <td>39.45</td>\n",
       "      <td>22.34</td>\n",
       "    </tr>\n",
       "    <tr>\n",
       "      <th>171</th>\n",
       "      <td>Souillac</td>\n",
       "      <td>45.60</td>\n",
       "      <td>-0.60</td>\n",
       "    </tr>\n",
       "    <tr>\n",
       "      <th>217</th>\n",
       "      <td>Veraval</td>\n",
       "      <td>49.65</td>\n",
       "      <td>0.71</td>\n",
       "    </tr>\n",
       "    <tr>\n",
       "      <th>273</th>\n",
       "      <td>Ploemeur</td>\n",
       "      <td>47.73</td>\n",
       "      <td>-3.43</td>\n",
       "    </tr>\n",
       "  </tbody>\n",
       "</table>\n",
       "</div>"
      ],
      "text/plain": [
       "             City    Lat    Lng\n",
       "30   Saint George  39.45  22.34\n",
       "171      Souillac  45.60  -0.60\n",
       "217       Veraval  49.65   0.71\n",
       "273      Ploemeur  47.73  -3.43"
      ]
     },
     "execution_count": 144,
     "metadata": {},
     "output_type": "execute_result"
    }
   ],
   "source": [
    "CityColumnsData = four_cities_df.loc[:,['City','Lat','Lng']]\n",
    "CityColumnsData"
   ]
  },
  {
   "cell_type": "code",
   "execution_count": 145,
   "metadata": {},
   "outputs": [
    {
     "data": {
      "application/vnd.jupyter.widget-view+json": {
       "model_id": "a95995edd8d34cfca35fcb6b5eda082d",
       "version_major": 2,
       "version_minor": 0
      },
      "text/plain": [
       "Figure(layout=FigureLayout(height='420px'))"
      ]
     },
     "metadata": {},
     "output_type": "display_data"
    }
   ],
   "source": [
    "# import gmaps\n",
    "import gmaps.datasets\n",
    "from config import g_key\n",
    "\n",
    "# Latitude-longitude pairs\n",
    "SaintGeorge = (39.45,22.34)\n",
    "Souillac = (45.60, -0.60)\n",
    "Veraval = (49.65, 0.71)\n",
    "Ploemeur = (47.73, -3.43)\n",
    "\n",
    "fig = gmaps.figure()\n",
    "tripPlanner = gmaps.directions_layer(SaintGeorge, Souillac, waypoints=[Veraval, Ploemeur])\n",
    "fig.add_layer(tripPlanner)\n",
    "fig"
   ]
  },
  {
   "cell_type": "code",
   "execution_count": 147,
   "metadata": {},
   "outputs": [
    {
     "data": {
      "application/vnd.jupyter.widget-view+json": {
       "model_id": "9861d2092efc4048ac4a2a6f5743ec33",
       "version_major": 2,
       "version_minor": 0
      },
      "text/plain": [
       "Figure(layout=FigureLayout(height='420px'))"
      ]
     },
     "metadata": {},
     "output_type": "display_data"
    }
   ],
   "source": [
    "fig = gmaps.figure()\n",
    "tripPlanner_via_driving = gmaps.directions_layertripPlanner = gmaps.directions_layer(SaintGeorge, Souillac, waypoints=[Veraval, Ploemeur],travel_mode='DRIVING')\n",
    "fig.add_layer(tripPlanner_via_driving)\n",
    "fig"
   ]
  },
  {
   "cell_type": "code",
   "execution_count": 148,
   "metadata": {},
   "outputs": [],
   "source": [
    "# Set parameters to search for a hotel.\n",
    "params = {\n",
    "    \"radius\": 5000,\n",
    "    \"type\": \"lodging\",\n",
    "    \"key\": g_key\n",
    "}\n",
    "# Iterate through the DataFrame.\n",
    "import urllib3\n",
    "urllib3.disable_warnings()\n",
    "for index, row in four_cities_df.iterrows():\n",
    "    # Get the latitude and longitude.\n",
    "    lat = row[\"Lat\"]\n",
    "    lng = row[\"Lng\"]\n",
    "\n",
    "    # Add the latitude and longitude to the params dictionary as values to the location key.\n",
    "    params[\"location\"] = f\"{lat},{lng}\"\n",
    "\n",
    "    # Use the search term: \"lodging\" and our latitude and longitude.\n",
    "    base_url = \"https://maps.googleapis.com/maps/api/place/nearbysearch/json\"\n",
    "    # Make request and get the JSON data from the search.\n",
    "    hotels = requests.get(base_url, params=params,verify=False).json()\n",
    "    # Grab the first hotel from the results and store the name.\n",
    "    try:\n",
    "        four_cities_df.loc[index, \"Hotel Name\"] = hotels[\"results\"][0][\"name\"]\n",
    "    except (IndexError):\n",
    "        print(\"Hotel not found... skipping.\")"
   ]
  },
  {
   "cell_type": "code",
   "execution_count": 153,
   "metadata": {},
   "outputs": [],
   "source": [
    "info_box_template = \"\"\"\n",
    "<dl>\n",
    "<dt>Hotel Name</dt><dd>{Hotel Name}</dd>\n",
    "<dt>City</dt><dd>{City}</dd>\n",
    "<dt>Country</dt><dd>{Country}</dd>\n",
    "<dt>Current Weather</dt><dd>{Current Description} and {Max Temp} °F</dd>\n",
    "</dl>\n",
    "\"\"\"\n",
    "# Store the DataFrame Row.\n",
    "four_cities_hotel_info = [info_box_template.format(**row) for index, row in four_cities_df.iterrows()]"
   ]
  },
  {
   "cell_type": "code",
   "execution_count": 154,
   "metadata": {},
   "outputs": [
    {
     "data": {
      "application/vnd.jupyter.widget-view+json": {
       "model_id": "f82350dd04784721a758cf0a71c96617",
       "version_major": 2,
       "version_minor": 0
      },
      "text/plain": [
       "Figure(layout=FigureLayout(height='420px'))"
      ]
     },
     "metadata": {},
     "output_type": "display_data"
    }
   ],
   "source": [
    "# Add a heatmap of temperature for the vacation spots and a pop-up marker for each city.\n",
    "locations = four_cities_df[[\"Lat\", \"Lng\"]]\n",
    "max_temp = four_cities_df[\"Max Temp\"]\n",
    "fig = gmaps.figure(center=(30.0, 31.0), zoom_level=1.5)\n",
    "heat_layer = gmaps.heatmap_layer(locations, weights=max_temp,dissipating=False,\n",
    "             max_intensity=300, point_radius=4)\n",
    "marker_layer = gmaps.marker_layer(locations, info_box_content=four_cities_hotel_info)\n",
    "fig.add_layer(heat_layer)\n",
    "fig.add_layer(marker_layer)\n",
    "\n",
    "# Call the figure to plot the data.\n",
    "fig"
   ]
  }
 ],
 "metadata": {
  "kernelspec": {
   "display_name": "Python 3",
   "language": "python",
   "name": "python3"
  },
  "language_info": {
   "codemirror_mode": {
    "name": "ipython",
    "version": 3
   },
   "file_extension": ".py",
   "mimetype": "text/x-python",
   "name": "python",
   "nbconvert_exporter": "python",
   "pygments_lexer": "ipython3",
   "version": "3.6.9"
  }
 },
 "nbformat": 4,
 "nbformat_minor": 2
}
